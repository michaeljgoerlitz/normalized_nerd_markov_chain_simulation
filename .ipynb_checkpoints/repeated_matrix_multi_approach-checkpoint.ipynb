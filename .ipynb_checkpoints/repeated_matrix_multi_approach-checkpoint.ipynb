{
 "cells": [
  {
   "cell_type": "code",
   "execution_count": 1,
   "id": "0f601ac8-2ab4-4f4d-a031-bdd30bfc16d6",
   "metadata": {},
   "outputs": [],
   "source": [
    "import numpy as np"
   ]
  },
  {
   "cell_type": "code",
   "execution_count": 2,
   "id": "d433d728-6cbd-4b18-9367-5a18530dc039",
   "metadata": {},
   "outputs": [],
   "source": [
    "state = {\n",
    "    0: 'one',\n",
    "    1: 'two',\n",
    "    2: 'three'\n",
    "}"
   ]
  },
  {
   "cell_type": "code",
   "execution_count": 3,
   "id": "5623a302-abd3-424e-be07-f5c5f5a43c82",
   "metadata": {},
   "outputs": [],
   "source": [
    "A = np.array([[0.2, 0.6, 0.2], [0.3, 0.0, 0.7], [0.5, 0.0, 0.5]])"
   ]
  },
  {
   "cell_type": "code",
   "execution_count": 4,
   "id": "bfaac863-05ad-4498-bdc9-e8cbf9f080fc",
   "metadata": {},
   "outputs": [
    {
     "name": "stdout",
     "output_type": "stream",
     "text": [
      "[[0.35211268 0.21126761 0.43661972]\n",
      " [0.35211268 0.21126761 0.43661972]\n",
      " [0.35211268 0.21126761 0.43661972]]\n",
      "pi =  [0.35211268 0.21126761 0.43661972]\n"
     ]
    }
   ],
   "source": [
    "steps = 10**3\n",
    "A_n = A\n",
    "\n",
    "i = 0\n",
    "while i < steps:\n",
    "    A_n = np.matmul(A_n, A)\n",
    "    i += 1\n",
    "    \n",
    "print(A_n)\n",
    "print('pi = ', A_n[0])"
   ]
  }
 ],
 "metadata": {
  "kernelspec": {
   "display_name": "Python 3 (ipykernel)",
   "language": "python",
   "name": "python3"
  },
  "language_info": {
   "codemirror_mode": {
    "name": "ipython",
    "version": 3
   },
   "file_extension": ".py",
   "mimetype": "text/x-python",
   "name": "python",
   "nbconvert_exporter": "python",
   "pygments_lexer": "ipython3",
   "version": "3.10.4"
  }
 },
 "nbformat": 4,
 "nbformat_minor": 5
}
