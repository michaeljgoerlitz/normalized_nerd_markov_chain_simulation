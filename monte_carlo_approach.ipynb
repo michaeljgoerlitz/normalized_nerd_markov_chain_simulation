{
 "cells": [
  {
   "cell_type": "code",
   "execution_count": 1,
   "id": "b39ffd3b-312b-4978-aa8a-7dd2d0f88a35",
   "metadata": {},
   "outputs": [],
   "source": [
    "import numpy as np"
   ]
  },
  {
   "cell_type": "code",
   "execution_count": 2,
   "id": "e1e613b2-8e7a-47b9-9e79-b3f64a3e993e",
   "metadata": {},
   "outputs": [],
   "source": [
    "state = {\n",
    "    0: 'one',\n",
    "    1: 'two',\n",
    "    2: 'three'\n",
    "}"
   ]
  },
  {
   "cell_type": "code",
   "execution_count": 3,
   "id": "6e9c8269-5c59-4ffa-a4ef-4b54b1ed57bb",
   "metadata": {},
   "outputs": [],
   "source": [
    "A = np.array([[0.2, 0.6, 0.2], [0.3, 0.0, 0.7], [0.5, 0.0, 0.5]])"
   ]
  },
  {
   "cell_type": "code",
   "execution_count": 8,
   "id": "d844cb0c-3beb-4216-a9ad-68ca650a0dc5",
   "metadata": {},
   "outputs": [
    {
     "name": "stdout",
     "output_type": "stream",
     "text": [
      "one  -->  two  -->  three  -->  one  -->  three  -->  one  -->  one  -->  two  -->  three  -->  three  -->  three  -->  three  -->  three  -->  "
     ]
    }
   ],
   "source": [
    "n = 12\n",
    "starting = 0\n",
    "print(state[starting], ' --> ', end=\" \")\n",
    "prev_state = starting\n",
    "\n",
    "while n > 0:\n",
    "    curr_state = np.random.choice([0, 1, 2], p=A[prev_state])\n",
    "    print(state[curr_state], ' --> ', end=\" \")\n",
    "    prev_state = curr_state\n",
    "    n -= 1"
   ]
  },
  {
   "cell_type": "code",
   "execution_count": 11,
   "id": "e605f332-46a6-4bc5-949c-2c00fcd211a3",
   "metadata": {},
   "outputs": [
    {
     "name": "stdout",
     "output_type": "stream",
     "text": [
      "[352311 211040 436650]\n"
     ]
    }
   ],
   "source": [
    "steps = 10**6\n",
    "pi = np.array([0, 0, 0])\n",
    "start = 0\n",
    "pi[start] = 1\n",
    "prev = start\n",
    "\n",
    "n = 0\n",
    "while n < steps:\n",
    "    curr = np.random.choice([0, 1, 2], p=A[prev])\n",
    "    prev = curr\n",
    "    pi[curr] += 1\n",
    "    n += 1\n",
    "    \n",
    "print(pi)"
   ]
  }
 ],
 "metadata": {
  "kernelspec": {
   "display_name": "Python 3 (ipykernel)",
   "language": "python",
   "name": "python3"
  },
  "language_info": {
   "codemirror_mode": {
    "name": "ipython",
    "version": 3
   },
   "file_extension": ".py",
   "mimetype": "text/x-python",
   "name": "python",
   "nbconvert_exporter": "python",
   "pygments_lexer": "ipython3",
   "version": "3.10.4"
  }
 },
 "nbformat": 4,
 "nbformat_minor": 5
}
