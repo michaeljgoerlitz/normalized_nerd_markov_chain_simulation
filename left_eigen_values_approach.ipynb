{
 "cells": [
  {
   "cell_type": "code",
   "execution_count": 1,
   "id": "0480e44a-6ddd-4567-87b0-a760a3e034e2",
   "metadata": {},
   "outputs": [],
   "source": [
    "import numpy as np"
   ]
  },
  {
   "cell_type": "code",
   "execution_count": 2,
   "id": "df65e6ac-32da-4461-8afb-8525aee3e5ef",
   "metadata": {},
   "outputs": [],
   "source": [
    "state = {\n",
    "    0: 'one',\n",
    "    1: 'two',\n",
    "    2: 'three'\n",
    "}"
   ]
  },
  {
   "cell_type": "code",
   "execution_count": 3,
   "id": "feaab349-7b25-416c-be1d-77d0b8a1e95b",
   "metadata": {},
   "outputs": [],
   "source": [
    "A = np.array([[0.2, 0.6, 0.2], [0.3, 0.0, 0.7], [0.5, 0.0, 0.5]])"
   ]
  },
  {
   "cell_type": "code",
   "execution_count": 4,
   "id": "1a22a2b4-e01b-4287-8385-93b744e3dddc",
   "metadata": {},
   "outputs": [],
   "source": [
    "import scipy.linalg"
   ]
  },
  {
   "cell_type": "code",
   "execution_count": 5,
   "id": "6c044ec5-0b05-4fde-8e8c-ae130652016c",
   "metadata": {},
   "outputs": [],
   "source": [
    "values, left = scipy.linalg.eig(A, right=False, left=True)"
   ]
  },
  {
   "cell_type": "code",
   "execution_count": 7,
   "id": "6fa8098d-756f-4832-be2b-b73e0881669a",
   "metadata": {},
   "outputs": [
    {
     "name": "stdout",
     "output_type": "stream",
     "text": [
      "left eigen values =  [[-0.58746336+0.j         -0.16984156-0.35355339j -0.16984156+0.35355339j]\n",
      " [-0.35247801+0.j          0.67936622+0.j          0.67936622-0.j        ]\n",
      " [-0.72845456+0.j         -0.50952467+0.35355339j -0.50952467-0.35355339j]]\n",
      "eigen values =  [ 1.  +0.j        -0.15+0.3122499j -0.15-0.3122499j]\n"
     ]
    }
   ],
   "source": [
    "print(\"left eigen values = \", left)\n",
    "print(\"eigen values = \", values)"
   ]
  },
  {
   "cell_type": "code",
   "execution_count": 8,
   "id": "49713570-a451-4880-801e-c815045ed533",
   "metadata": {},
   "outputs": [],
   "source": [
    "pi = left[:,0]"
   ]
  },
  {
   "cell_type": "code",
   "execution_count": 10,
   "id": "97954ab3-5465-47d7-a461-82a525b6c0fc",
   "metadata": {},
   "outputs": [],
   "source": [
    "pi_normalized = [(x/np.sum(pi)).real for x in pi]"
   ]
  },
  {
   "cell_type": "code",
   "execution_count": 11,
   "id": "f3934682-dacd-42a4-b99d-2ddf0115e347",
   "metadata": {},
   "outputs": [
    {
     "data": {
      "text/plain": [
       "[0.3521126760563379, 0.2112676056338029, 0.43661971830985913]"
      ]
     },
     "execution_count": 11,
     "metadata": {},
     "output_type": "execute_result"
    }
   ],
   "source": [
    "pi_normalized"
   ]
  }
 ],
 "metadata": {
  "kernelspec": {
   "display_name": "Python 3 (ipykernel)",
   "language": "python",
   "name": "python3"
  },
  "language_info": {
   "codemirror_mode": {
    "name": "ipython",
    "version": 3
   },
   "file_extension": ".py",
   "mimetype": "text/x-python",
   "name": "python",
   "nbconvert_exporter": "python",
   "pygments_lexer": "ipython3",
   "version": "3.10.4"
  }
 },
 "nbformat": 4,
 "nbformat_minor": 5
}
